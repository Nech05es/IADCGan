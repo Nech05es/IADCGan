{
  "cells": [
    {
      "cell_type": "code",
      "execution_count": 2,
      "metadata": {
        "colab": {
          "base_uri": "https://localhost:8080/"
        },
        "id": "dc5B7xysx_4l",
        "outputId": "09eee0da-1123-40de-9b76-b278dfe691f6"
      },
      "outputs": [
        {
          "output_type": "stream",
          "name": "stdout",
          "text": [
            "Drive already mounted at /content/drive; to attempt to forcibly remount, call drive.mount(\"/content/drive\", force_remount=True).\n"
          ]
        }
      ],
      "source": [
        "from google.colab import drive # import lib\n",
        "drive.mount('/content/drive') # Activate drive"
      ]
    },
    {
      "cell_type": "code",
      "execution_count": 3,
      "metadata": {
        "id": "Cp6lQqd6MPI-"
      },
      "outputs": [],
      "source": [
        "# Import Zone\n",
        "import os\n",
        "import numpy as np\n",
        "import matplotlib.pyplot as plt\n",
        "import warnings\n",
        "from tqdm.notebook import tqdm\n",
        "\n",
        "import tensorflow as tf\n",
        "from tensorflow import keras\n",
        "from tensorflow.keras.preprocessing.image import load_img, array_to_img\n",
        "from tensorflow.keras.models import Sequential, Model\n",
        "from tensorflow.keras import layers\n",
        "from tensorflow.keras.optimizers import Adam\n",
        "from tensorflow.keras.losses import BinaryCrossentropy\n",
        "\n",
        "warnings.filterwarnings('ignore')"
      ]
    },
    {
      "cell_type": "code",
      "source": [
        "# Path´s\n",
        "mpath = '/content/drive/MyDrive/models/' # ruta para load & save modelos.\n",
        "Ipath = '/content/drive/My Drive/DSAF/' # ruta para los datos y guardados de imgs"
      ],
      "metadata": {
        "id": "9MefIgjb-b0E"
      },
      "execution_count": 4,
      "outputs": []
    },
    {
      "cell_type": "code",
      "execution_count": 5,
      "metadata": {
        "colab": {
          "base_uri": "https://localhost:8080/"
        },
        "id": "iJ5SYqXELuk8",
        "outputId": "549acb9f-76e4-435a-8dc3-da5d137f4672"
      },
      "outputs": [
        {
          "output_type": "execute_result",
          "data": {
            "text/plain": [
              "(64, 64, 3)"
            ]
          },
          "metadata": {},
          "execution_count": 5
        }
      ],
      "source": [
        "# Load data with numpy.\n",
        "data = np.load(Ipath + 'Training_data.npy')\n",
        "data[0].shape # verify data."
      ]
    },
    {
      "cell_type": "code",
      "source": [
        "# Normalize the data.\n",
        "train_imgs = data.reshape(data.shape[0], 64, 64, 3).astype('float32')\n",
        "train_imgs = (train_imgs - 127.5) / 127.5\n",
        "# train_imgs"
      ],
      "metadata": {
        "id": "2GkcJF-39iu2"
      },
      "execution_count": 6,
      "outputs": []
    },
    {
      "cell_type": "code",
      "execution_count": 7,
      "metadata": {
        "id": "bqkKncgQVOBk"
      },
      "outputs": [],
      "source": [
        "# latent dimension for random noise\n",
        "LATENT_DIM = 100\n",
        "# weight initializer\n",
        "WEIGHT_INIT = keras.initializers.RandomNormal(mean=0.0, stddev=0.02)\n",
        "# no. of channels of the image\n",
        "CHANNELS = 3 # for gray scale, keep it as 1"
      ]
    },
    {
      "cell_type": "code",
      "execution_count": 8,
      "metadata": {
        "colab": {
          "base_uri": "https://localhost:8080/"
        },
        "id": "lRbXYd_6VRHG",
        "outputId": "6cc60e9a-fcce-4d02-86c2-66aad9a51cad"
      },
      "outputs": [
        {
          "output_type": "stream",
          "name": "stdout",
          "text": [
            "Model: \"generator\"\n",
            "_________________________________________________________________\n",
            " Layer (type)                Output Shape              Param #   \n",
            "=================================================================\n",
            " dense (Dense)               (None, 32768)             3309568   \n",
            "                                                                 \n",
            " re_lu (ReLU)                (None, 32768)             0         \n",
            "                                                                 \n",
            " reshape (Reshape)           (None, 8, 8, 512)         0         \n",
            "                                                                 \n",
            " conv2d_transpose (Conv2DTr  (None, 16, 16, 256)       2097408   \n",
            " anspose)                                                        \n",
            "                                                                 \n",
            " re_lu_1 (ReLU)              (None, 16, 16, 256)       0         \n",
            "                                                                 \n",
            " conv2d_transpose_1 (Conv2D  (None, 32, 32, 128)       524416    \n",
            " Transpose)                                                      \n",
            "                                                                 \n",
            " re_lu_2 (ReLU)              (None, 32, 32, 128)       0         \n",
            "                                                                 \n",
            " conv2d_transpose_2 (Conv2D  (None, 64, 64, 64)        131136    \n",
            " Transpose)                                                      \n",
            "                                                                 \n",
            " re_lu_3 (ReLU)              (None, 64, 64, 64)        0         \n",
            "                                                                 \n",
            " conv2d (Conv2D)             (None, 64, 64, 3)         3075      \n",
            "                                                                 \n",
            "=================================================================\n",
            "Total params: 6065603 (23.14 MB)\n",
            "Trainable params: 6065603 (23.14 MB)\n",
            "Non-trainable params: 0 (0.00 Byte)\n",
            "_________________________________________________________________\n"
          ]
        }
      ],
      "source": [
        "model = Sequential(name='generator')\n",
        "\n",
        "# 1d random noise\n",
        "model.add(layers.Dense(8 * 8 * 512, input_dim=LATENT_DIM))\n",
        "# model.add(layers.BatchNormalization())\n",
        "model.add(layers.ReLU())\n",
        "\n",
        "# convert 1d to 3d\n",
        "model.add(layers.Reshape((8, 8, 512)))\n",
        "\n",
        "# upsample to 16x16\n",
        "model.add(layers.Conv2DTranspose(256, (4, 4), strides=(2, 2), padding='same', kernel_initializer=WEIGHT_INIT))\n",
        "# model.add(layers.BatchNormalization())\n",
        "model.add(layers.ReLU())\n",
        "\n",
        "# upsample to 32x32\n",
        "model.add(layers.Conv2DTranspose(128, (4, 4), strides=(2, 2), padding='same', kernel_initializer=WEIGHT_INIT))\n",
        "# model.add(layers.BatchNormalization())\n",
        "model.add(layers.ReLU())\n",
        "\n",
        "# upsample to 64x64\n",
        "model.add(layers.Conv2DTranspose(64, (4, 4), strides=(2, 2), padding='same', kernel_initializer=WEIGHT_INIT))\n",
        "# model.add(layers.BatchNormalization())\n",
        "model.add(layers.ReLU())\n",
        "\n",
        "model.add(layers.Conv2D(CHANNELS, (4, 4), padding='same', activation='tanh'))\n",
        "\n",
        "generator = model\n",
        "generator.summary()"
      ]
    },
    {
      "cell_type": "code",
      "execution_count": 9,
      "metadata": {
        "colab": {
          "base_uri": "https://localhost:8080/"
        },
        "id": "SrcM84EGVWAH",
        "outputId": "6101120f-a0c4-4d6f-aeee-465c1e89f447"
      },
      "outputs": [
        {
          "output_type": "stream",
          "name": "stdout",
          "text": [
            "Model: \"discriminator\"\n",
            "_________________________________________________________________\n",
            " Layer (type)                Output Shape              Param #   \n",
            "=================================================================\n",
            " conv2d_1 (Conv2D)           (None, 32, 32, 64)        3136      \n",
            "                                                                 \n",
            " batch_normalization (Batch  (None, 32, 32, 64)        256       \n",
            " Normalization)                                                  \n",
            "                                                                 \n",
            " leaky_re_lu (LeakyReLU)     (None, 32, 32, 64)        0         \n",
            "                                                                 \n",
            " conv2d_2 (Conv2D)           (None, 16, 16, 128)       131200    \n",
            "                                                                 \n",
            " batch_normalization_1 (Bat  (None, 16, 16, 128)       512       \n",
            " chNormalization)                                                \n",
            "                                                                 \n",
            " leaky_re_lu_1 (LeakyReLU)   (None, 16, 16, 128)       0         \n",
            "                                                                 \n",
            " conv2d_3 (Conv2D)           (None, 8, 8, 128)         262272    \n",
            "                                                                 \n",
            " batch_normalization_2 (Bat  (None, 8, 8, 128)         512       \n",
            " chNormalization)                                                \n",
            "                                                                 \n",
            " leaky_re_lu_2 (LeakyReLU)   (None, 8, 8, 128)         0         \n",
            "                                                                 \n",
            " flatten (Flatten)           (None, 8192)              0         \n",
            "                                                                 \n",
            " dropout (Dropout)           (None, 8192)              0         \n",
            "                                                                 \n",
            " dense_1 (Dense)             (None, 1)                 8193      \n",
            "                                                                 \n",
            "=================================================================\n",
            "Total params: 406081 (1.55 MB)\n",
            "Trainable params: 405441 (1.55 MB)\n",
            "Non-trainable params: 640 (2.50 KB)\n",
            "_________________________________________________________________\n"
          ]
        }
      ],
      "source": [
        "model = Sequential(name='discriminator')\n",
        "input_shape = (64, 64, 3)\n",
        "alpha = 0.2\n",
        "\n",
        "# create conv layers\n",
        "model.add(layers.Conv2D(64, (4, 4), strides=(2, 2), padding='same', input_shape=input_shape))\n",
        "model.add(layers.BatchNormalization())\n",
        "model.add(layers.LeakyReLU(alpha=alpha))\n",
        "\n",
        "model.add(layers.Conv2D(128, (4, 4), strides=(2, 2), padding='same', input_shape=input_shape))\n",
        "model.add(layers.BatchNormalization())\n",
        "model.add(layers.LeakyReLU(alpha=alpha))\n",
        "\n",
        "model.add(layers.Conv2D(128, (4, 4), strides=(2, 2), padding='same', input_shape=input_shape))\n",
        "model.add(layers.BatchNormalization())\n",
        "model.add(layers.LeakyReLU(alpha=alpha))\n",
        "\n",
        "model.add(layers.Flatten())\n",
        "model.add(layers.Dropout(0.3))\n",
        "\n",
        "# output class\n",
        "model.add(layers.Dense(1, activation='sigmoid'))\n",
        "\n",
        "discriminator = model\n",
        "discriminator.summary()"
      ]
    },
    {
      "cell_type": "code",
      "execution_count": 10,
      "metadata": {
        "id": "mjLRwpm5VZp9"
      },
      "outputs": [],
      "source": [
        "class DCGAN(keras.Model):\n",
        "    def __init__(self, generator, discriminator, latent_dim):\n",
        "        super().__init__()\n",
        "        self.generator = generator\n",
        "        self.discriminator = discriminator\n",
        "        self.latent_dim = latent_dim\n",
        "        self.g_loss_metric = keras.metrics.Mean(name='g_loss')\n",
        "        self.d_loss_metric = keras.metrics.Mean(name='d_loss')\n",
        "\n",
        "    @property\n",
        "    def metrics(self):\n",
        "        return [self.g_loss_metric, self.d_loss_metric]\n",
        "\n",
        "    def compile(self, g_optimizer, d_optimizer, loss_fn):\n",
        "        super(DCGAN, self).compile()\n",
        "        self.g_optimizer = g_optimizer\n",
        "        self.d_optimizer = d_optimizer\n",
        "        self.loss_fn = loss_fn\n",
        "\n",
        "    def train_step(self, real_images):\n",
        "        # get batch size from the data\n",
        "        batch_size = tf.shape(real_images)[0]\n",
        "        # generate random noise\n",
        "        random_noise = tf.random.normal(shape=(batch_size, self.latent_dim))\n",
        "\n",
        "        # train the discriminator with real (1) and fake (0) images\n",
        "        with tf.GradientTape() as tape:\n",
        "            # compute loss on real images\n",
        "            pred_real = self.discriminator(real_images, training=True)\n",
        "            # generate real image labels\n",
        "            real_labels = tf.ones((batch_size, 1))\n",
        "            # label smoothing\n",
        "            real_labels += 0.05 * tf.random.uniform(tf.shape(real_labels))\n",
        "            d_loss_real = self.loss_fn(real_labels, pred_real)\n",
        "\n",
        "            # compute loss on fake images\n",
        "            fake_images = self.generator(random_noise)\n",
        "            pred_fake = self.discriminator(fake_images, training=True)\n",
        "            # generate fake labels\n",
        "            fake_labels = tf.zeros((batch_size, 1))\n",
        "            d_loss_fake = self.loss_fn(fake_labels, pred_fake)\n",
        "\n",
        "            # total discriminator loss\n",
        "            d_loss = (d_loss_real + d_loss_fake) / 2\n",
        "\n",
        "        # compute discriminator gradients\n",
        "        gradients = tape.gradient(d_loss, self.discriminator.trainable_variables)\n",
        "        # update the gradients\n",
        "        self.d_optimizer.apply_gradients(zip(gradients, self.discriminator.trainable_variables))\n",
        "\n",
        "\n",
        "        # train the generator model\n",
        "        labels = tf.ones((batch_size, 1))\n",
        "        # generator want discriminator to think that fake images are real\n",
        "        with tf.GradientTape() as tape:\n",
        "            # generate fake images from generator\n",
        "            fake_images = self.generator(random_noise, training=True)\n",
        "            # classify images as real or fake\n",
        "            pred_fake = self.discriminator(fake_images, training=True)\n",
        "            # compute loss\n",
        "            g_loss = self.loss_fn(labels, pred_fake)\n",
        "\n",
        "        # compute gradients\n",
        "        gradients = tape.gradient(g_loss, self.generator.trainable_variables)\n",
        "        # update the gradients\n",
        "        self.g_optimizer.apply_gradients(zip(gradients, self.generator.trainable_variables))\n",
        "\n",
        "        # update states for both models\n",
        "        self.d_loss_metric.update_state(d_loss)\n",
        "        self.g_loss_metric.update_state(g_loss)\n",
        "\n",
        "        return {'d_loss': self.d_loss_metric.result(), 'g_loss': self.g_loss_metric.result()}"
      ]
    },
    {
      "cell_type": "code",
      "execution_count": 11,
      "metadata": {
        "id": "xsi03ns_VeWo"
      },
      "outputs": [],
      "source": [
        "class DCGANMonitor(keras.callbacks.Callback):\n",
        "    def __init__(self, num_imgs=25, latent_dim=100):\n",
        "        self.num_imgs = num_imgs\n",
        "        self.latent_dim = latent_dim\n",
        "        # create random noise for generating images\n",
        "        self.noise = tf.random.normal([25, latent_dim])\n",
        "\n",
        "    def on_epoch_end(self, epoch, logs=None):\n",
        "        # generate the image from noise\n",
        "        g_img = self.model.generator(self.noise)\n",
        "        # denormalize the image\n",
        "        g_img = (g_img * 127.5) + 127.5\n",
        "        g_img.numpy()\n",
        "\n",
        "        fig = plt.figure(figsize=(8, 8))\n",
        "        for i in range(self.num_imgs):\n",
        "            plt.subplot(5, 5, i+1)\n",
        "            img = array_to_img(g_img[i])\n",
        "            plt.imshow(img)\n",
        "            plt.axis('off')\n",
        "        plt.savefig(Ipath + 'genImg/epoch_{:03d}.png'.format(epoch))\n",
        "        plt.show()\n",
        "\n",
        "    def on_train_end(self, logs=None):\n",
        "        self.model.generator.save(mpath + 'generatorDCgan_anime.h5')\n",
        "        self.model.discriminator.save(mpath + 'discriminatorDCgan_anime.h5')"
      ]
    },
    {
      "cell_type": "code",
      "execution_count": null,
      "metadata": {
        "id": "WbB7nGay62SY"
      },
      "outputs": [],
      "source": [
        "generator = keras.models.load_model(mpath + 'generatorDCgan_anime.h5')\n",
        "discriminator = keras.models.load_model(mpath + 'discriminatorDCgan_anime.h5')"
      ]
    },
    {
      "cell_type": "code",
      "execution_count": 12,
      "metadata": {
        "id": "AQzsKrlcVxfB"
      },
      "outputs": [],
      "source": [
        "dcgan = DCGAN(generator=generator, discriminator=discriminator, latent_dim=LATENT_DIM)"
      ]
    },
    {
      "cell_type": "code",
      "execution_count": 13,
      "metadata": {
        "id": "GZkvj4SEV0yt"
      },
      "outputs": [],
      "source": [
        "D_LR = 0.0001\n",
        "G_LR = 0.0003\n",
        "dcgan.compile(g_optimizer=Adam(learning_rate=G_LR, beta_1=0.5), d_optimizer=Adam(learning_rate=D_LR, beta_1=0.5), loss_fn=BinaryCrossentropy())"
      ]
    },
    {
      "cell_type": "code",
      "execution_count": null,
      "metadata": {
        "colab": {
          "base_uri": "https://localhost:8080/"
        },
        "id": "hbskg7PBV4mP",
        "outputId": "e05ba5d4-d2e2-459a-bad2-d03af0fe6616"
      },
      "outputs": [
        {
          "output_type": "stream",
          "name": "stdout",
          "text": [
            "Epoch 1/2\n",
            " 335/1987 [====>.........................] - ETA: 2:01:22 - d_loss: 1.1681 - g_loss: 2.0840"
          ]
        }
      ],
      "source": [
        "N_EPOCHS = 2\n",
        "dcgan.fit(train_imgs, epochs=N_EPOCHS, callbacks=[DCGANMonitor()])"
      ]
    },
    {
      "cell_type": "code",
      "execution_count": null,
      "metadata": {
        "id": "USvx8wLzV7pV"
      },
      "outputs": [],
      "source": [
        "noise = tf.random.normal([1, 100])\n",
        "fig = plt.figure(figsize=(3, 3))\n",
        "# generate the image from noise\n",
        "g_img = dcgan.generator(noise)\n",
        "# denormalize the image\n",
        "g_img = (g_img * 127.5) + 127.5\n",
        "g_img.numpy()\n",
        "img = array_to_img(g_img[0])\n",
        "plt.imshow(img)\n",
        "plt.axis('off')\n",
        "# plt.savefig('epoch_{:03d}.png'.format(epoch))\n",
        "plt.show()"
      ]
    }
  ],
  "metadata": {
    "colab": {
      "provenance": [],
      "authorship_tag": "ABX9TyOKWsKEQ+L6dMaXIHEf0dtH"
    },
    "kernelspec": {
      "display_name": "Python 3",
      "name": "python3"
    },
    "language_info": {
      "name": "python"
    }
  },
  "nbformat": 4,
  "nbformat_minor": 0
}