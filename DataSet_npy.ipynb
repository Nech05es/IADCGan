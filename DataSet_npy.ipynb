{
  "cells": [
    {
      "cell_type": "markdown",
      "source": [
        "# Archivo Data Set\n",
        "Este archivo descomprime carga y procesa y guarda los datos de las imagenes en un archivo *.npy"
      ],
      "metadata": {
        "id": "wRl1GduY5y3K"
      }
    },
    {
      "cell_type": "code",
      "execution_count": null,
      "metadata": {
        "id": "7_py6BiEqP79"
      },
      "outputs": [],
      "source": [
        "# montar disco de drive\n",
        "from google.colab import drive\n",
        "drive.mount('/content/drive')"
      ]
    },
    {
      "cell_type": "code",
      "execution_count": null,
      "metadata": {
        "id": "qICBVB0hqc6c"
      },
      "outputs": [],
      "source": [
        "import os\n",
        "import numpy as np\n",
        "import warnings\n",
        "warnings.filterwarnings('ignore')\n",
        "from tqdm import tqdm\n",
        "from keras.preprocessing.image import load_img"
      ]
    },
    {
      "cell_type": "code",
      "source": [
        "!unzip drive/My\\ Drive/DSAF/archive.zip -d /content/drive/My\\ Drive/DSAF # descomprimir el archivo.\n",
        "!ls /content/drive/My\\ Drive/Data\\ Set\\ Anime\\ Faces/images # revisar los datos."
      ],
      "metadata": {
        "id": "X4oM-Uxg6bXK"
      },
      "execution_count": null,
      "outputs": []
    },
    {
      "cell_type": "code",
      "execution_count": null,
      "metadata": {
        "id": "87ub3uykqjz5"
      },
      "outputs": [],
      "source": [
        "img_path = '/content/drive/My Drive/DSAF/IMGS/' # establecer ruta de archivos.\n",
        "list_img = os.listdir(img_path) # cargar los archivos.\n",
        "len(os.listdir(img_path)) # revisar que el proceso se ejecuto bien."
      ]
    },
    {
      "cell_type": "code",
      "execution_count": null,
      "metadata": {
        "id": "gKfrHrUAqtA2"
      },
      "outputs": [],
      "source": [
        "# Procesar los datos.\n",
        "# list_img = list_img[:5000]\n",
        "img_size = ( 64 , 64 ) # tamaño de las imagenes.\n",
        "# load the image and convert to numpy array\n",
        "train_images = [np.array(load_img(img_path + path).resize(img_size)) for path in tqdm(list_img)]# cargar imgs.\n",
        "train_images = np.array(train_images) # volverlas un solo array."
      ]
    },
    {
      "cell_type": "code",
      "execution_count": null,
      "metadata": {
        "id": "oSM3KJIPrUK0"
      },
      "outputs": [],
      "source": [
        "# Guardar el archivo.\n",
        "np.save('/content/drive/MyDrive/DSAF/Training_data.npy', train_images)"
      ]
    },
    {
      "cell_type": "code",
      "source": [
        "# Cargar el archivo.\n",
        "data = np.load('/content/drive/MyDrive/DSAF/Training_data.npy')\n",
        "# probar los datos.\n",
        "# print(data)\n",
        "new = data.reshape(data.shape[0], 64, 64, 3).astype('float32')# intentar hacer operaciones con los datos.\n",
        "print(new) # verificar los datos."
      ],
      "metadata": {
        "id": "kMkjIh37L8im"
      },
      "execution_count": null,
      "outputs": []
    }
  ],
  "metadata": {
    "colab": {
      "provenance": [],
      "authorship_tag": "ABX9TyNFlxA15nlCk+ks556KRc3x"
    },
    "kernelspec": {
      "display_name": "Python 3",
      "name": "python3"
    },
    "language_info": {
      "name": "python"
    }
  },
  "nbformat": 4,
  "nbformat_minor": 0
}